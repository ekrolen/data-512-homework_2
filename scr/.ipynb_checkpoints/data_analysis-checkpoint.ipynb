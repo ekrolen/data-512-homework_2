{
 "cells": [
  {
   "cell_type": "markdown",
   "id": "98d050c6",
   "metadata": {},
   "source": [
    "## Purpose\n",
    "\n",
    "The purpose of this code is to analyze data on total articles/population and quality of articles/population and a state-by-state and divisional basis. High quality articles will be ranked with either \"FA\" or \"GA\". We will begin by reading in Python libraries and uploading our table for analysis."
   ]
  },
  {
   "cell_type": "code",
   "execution_count": 94,
   "id": "d2e35cd0",
   "metadata": {},
   "outputs": [
    {
     "data": {
      "text/html": [
       "<div>\n",
       "<style scoped>\n",
       "    .dataframe tbody tr th:only-of-type {\n",
       "        vertical-align: middle;\n",
       "    }\n",
       "\n",
       "    .dataframe tbody tr th {\n",
       "        vertical-align: top;\n",
       "    }\n",
       "\n",
       "    .dataframe thead th {\n",
       "        text-align: right;\n",
       "    }\n",
       "</style>\n",
       "<table border=\"1\" class=\"dataframe\">\n",
       "  <thead>\n",
       "    <tr style=\"text-align: right;\">\n",
       "      <th></th>\n",
       "      <th>state</th>\n",
       "      <th>regional_division</th>\n",
       "      <th>population</th>\n",
       "      <th>article_title</th>\n",
       "      <th>revision_id</th>\n",
       "      <th>article_quality</th>\n",
       "    </tr>\n",
       "  </thead>\n",
       "  <tbody>\n",
       "    <tr>\n",
       "      <th>0</th>\n",
       "      <td>Alabama</td>\n",
       "      <td>South</td>\n",
       "      <td>5074296</td>\n",
       "      <td>Abbeville, Alabama</td>\n",
       "      <td>1171163550</td>\n",
       "      <td>C</td>\n",
       "    </tr>\n",
       "    <tr>\n",
       "      <th>1</th>\n",
       "      <td>Alabama</td>\n",
       "      <td>South</td>\n",
       "      <td>5074296</td>\n",
       "      <td>Adamsville, Alabama</td>\n",
       "      <td>1177621427</td>\n",
       "      <td>C</td>\n",
       "    </tr>\n",
       "    <tr>\n",
       "      <th>2</th>\n",
       "      <td>Alabama</td>\n",
       "      <td>South</td>\n",
       "      <td>5074296</td>\n",
       "      <td>Addison, Alabama</td>\n",
       "      <td>1168359898</td>\n",
       "      <td>C</td>\n",
       "    </tr>\n",
       "    <tr>\n",
       "      <th>3</th>\n",
       "      <td>Alabama</td>\n",
       "      <td>South</td>\n",
       "      <td>5074296</td>\n",
       "      <td>Akron, Alabama</td>\n",
       "      <td>1165909508</td>\n",
       "      <td>GA</td>\n",
       "    </tr>\n",
       "    <tr>\n",
       "      <th>4</th>\n",
       "      <td>Alabama</td>\n",
       "      <td>South</td>\n",
       "      <td>5074296</td>\n",
       "      <td>Alabaster, Alabama</td>\n",
       "      <td>1179139816</td>\n",
       "      <td>C</td>\n",
       "    </tr>\n",
       "  </tbody>\n",
       "</table>\n",
       "</div>"
      ],
      "text/plain": [
       "     state regional_division  population        article_title  revision_id  \\\n",
       "0  Alabama             South     5074296   Abbeville, Alabama   1171163550   \n",
       "1  Alabama             South     5074296  Adamsville, Alabama   1177621427   \n",
       "2  Alabama             South     5074296     Addison, Alabama   1168359898   \n",
       "3  Alabama             South     5074296       Akron, Alabama   1165909508   \n",
       "4  Alabama             South     5074296   Alabaster, Alabama   1179139816   \n",
       "\n",
       "  article_quality  \n",
       "0               C  \n",
       "1               C  \n",
       "2               C  \n",
       "3              GA  \n",
       "4               C  "
      ]
     },
     "execution_count": 94,
     "metadata": {},
     "output_type": "execute_result"
    }
   ],
   "source": [
    "#Import python libraries\n",
    "import json\n",
    "import time\n",
    "import urllib.parse\n",
    "import requests\n",
    "import pandas as pd\n",
    "\n",
    "#Read in file for analysis\n",
    "ranking_df = pd.read_csv('../clean_data/wp_scored_city_articles_by_state.csv')\n",
    "ranking_df.head()"
   ]
  },
  {
   "cell_type": "markdown",
   "id": "c5955cec",
   "metadata": {},
   "source": [
    "First we will find the count of articles per population (state and regional) and save it to its own dataframe."
   ]
  },
  {
   "cell_type": "code",
   "execution_count": 95,
   "id": "09177b47",
   "metadata": {},
   "outputs": [
    {
     "data": {
      "text/html": [
       "<div>\n",
       "<style scoped>\n",
       "    .dataframe tbody tr th:only-of-type {\n",
       "        vertical-align: middle;\n",
       "    }\n",
       "\n",
       "    .dataframe tbody tr th {\n",
       "        vertical-align: top;\n",
       "    }\n",
       "\n",
       "    .dataframe thead th {\n",
       "        text-align: right;\n",
       "    }\n",
       "</style>\n",
       "<table border=\"1\" class=\"dataframe\">\n",
       "  <thead>\n",
       "    <tr style=\"text-align: right;\">\n",
       "      <th></th>\n",
       "      <th>state</th>\n",
       "      <th>regional_division</th>\n",
       "      <th>population</th>\n",
       "      <th>count_articles</th>\n",
       "    </tr>\n",
       "  </thead>\n",
       "  <tbody>\n",
       "    <tr>\n",
       "      <th>0</th>\n",
       "      <td>Alabama</td>\n",
       "      <td>South</td>\n",
       "      <td>5074296</td>\n",
       "      <td>461</td>\n",
       "    </tr>\n",
       "    <tr>\n",
       "      <th>1</th>\n",
       "      <td>Alaska</td>\n",
       "      <td>West</td>\n",
       "      <td>733583</td>\n",
       "      <td>149</td>\n",
       "    </tr>\n",
       "    <tr>\n",
       "      <th>2</th>\n",
       "      <td>Arizona</td>\n",
       "      <td>West</td>\n",
       "      <td>7359197</td>\n",
       "      <td>91</td>\n",
       "    </tr>\n",
       "    <tr>\n",
       "      <th>3</th>\n",
       "      <td>Arkansas</td>\n",
       "      <td>South</td>\n",
       "      <td>3045637</td>\n",
       "      <td>500</td>\n",
       "    </tr>\n",
       "    <tr>\n",
       "      <th>4</th>\n",
       "      <td>California</td>\n",
       "      <td>West</td>\n",
       "      <td>39029342</td>\n",
       "      <td>482</td>\n",
       "    </tr>\n",
       "  </tbody>\n",
       "</table>\n",
       "</div>"
      ],
      "text/plain": [
       "        state regional_division  population  count_articles\n",
       "0     Alabama             South     5074296             461\n",
       "1      Alaska              West      733583             149\n",
       "2     Arizona              West     7359197              91\n",
       "3    Arkansas             South     3045637             500\n",
       "4  California              West    39029342             482"
      ]
     },
     "execution_count": 95,
     "metadata": {},
     "output_type": "execute_result"
    }
   ],
   "source": [
    "#Summing articles grouped by state\n",
    "count_by_state = pd.DataFrame({\n",
    "    'count_articles': ranking_df.groupby(['state']).size()}).reset_index()\n",
    "count_by_state.head()\n",
    "\n",
    "#Merging count into ranking_df\n",
    "ranking_count_by_state = pd.merge(ranking_df, count_by_state, how = 'left',\n",
    "                              on = 'state')\n",
    "\n",
    "#Verifying merge is correct\n",
    "'''if len(ranking_count_by_state) == len(ranking_df):\n",
    "    print(\"Merge successful, {0} rows\".format(len(ranking_df)))\n",
    "else:\n",
    "    print(\"ERROR in merge\")'''\n",
    "\n",
    "#Removing cols we dont need and deduping\n",
    "tot_art_per_pop = ranking_count_by_state[['state','regional_division',\n",
    "                                         'population',\n",
    "                                          'count_articles']]\n",
    "tot_art_per_pop = tot_art_per_pop.drop_duplicates().reset_index(drop = True)\n",
    "tot_art_per_pop.head()"
   ]
  },
  {
   "cell_type": "markdown",
   "id": "d61300fa",
   "metadata": {},
   "source": [
    "Now we will calculate the total articles per population by state"
   ]
  },
  {
   "cell_type": "code",
   "execution_count": 96,
   "id": "37837322",
   "metadata": {},
   "outputs": [
    {
     "data": {
      "text/html": [
       "<div>\n",
       "<style scoped>\n",
       "    .dataframe tbody tr th:only-of-type {\n",
       "        vertical-align: middle;\n",
       "    }\n",
       "\n",
       "    .dataframe tbody tr th {\n",
       "        vertical-align: top;\n",
       "    }\n",
       "\n",
       "    .dataframe thead th {\n",
       "        text-align: right;\n",
       "    }\n",
       "</style>\n",
       "<table border=\"1\" class=\"dataframe\">\n",
       "  <thead>\n",
       "    <tr style=\"text-align: right;\">\n",
       "      <th></th>\n",
       "      <th>state</th>\n",
       "      <th>regional_division</th>\n",
       "      <th>population</th>\n",
       "      <th>count_articles</th>\n",
       "      <th>art_per_pop</th>\n",
       "    </tr>\n",
       "  </thead>\n",
       "  <tbody>\n",
       "    <tr>\n",
       "      <th>0</th>\n",
       "      <td>Alabama</td>\n",
       "      <td>South</td>\n",
       "      <td>5074296</td>\n",
       "      <td>461</td>\n",
       "      <td>0.000091</td>\n",
       "    </tr>\n",
       "    <tr>\n",
       "      <th>1</th>\n",
       "      <td>Alaska</td>\n",
       "      <td>West</td>\n",
       "      <td>733583</td>\n",
       "      <td>149</td>\n",
       "      <td>0.000203</td>\n",
       "    </tr>\n",
       "    <tr>\n",
       "      <th>2</th>\n",
       "      <td>Arizona</td>\n",
       "      <td>West</td>\n",
       "      <td>7359197</td>\n",
       "      <td>91</td>\n",
       "      <td>0.000012</td>\n",
       "    </tr>\n",
       "    <tr>\n",
       "      <th>3</th>\n",
       "      <td>Arkansas</td>\n",
       "      <td>South</td>\n",
       "      <td>3045637</td>\n",
       "      <td>500</td>\n",
       "      <td>0.000164</td>\n",
       "    </tr>\n",
       "    <tr>\n",
       "      <th>4</th>\n",
       "      <td>California</td>\n",
       "      <td>West</td>\n",
       "      <td>39029342</td>\n",
       "      <td>482</td>\n",
       "      <td>0.000012</td>\n",
       "    </tr>\n",
       "  </tbody>\n",
       "</table>\n",
       "</div>"
      ],
      "text/plain": [
       "        state regional_division  population  count_articles  art_per_pop\n",
       "0     Alabama             South     5074296             461     0.000091\n",
       "1      Alaska              West      733583             149     0.000203\n",
       "2     Arizona              West     7359197              91     0.000012\n",
       "3    Arkansas             South     3045637             500     0.000164\n",
       "4  California              West    39029342             482     0.000012"
      ]
     },
     "execution_count": 96,
     "metadata": {},
     "output_type": "execute_result"
    }
   ],
   "source": [
    "#Creating total per population col\n",
    "total_per_state = tot_art_per_pop.copy()\n",
    "total_per_state['art_per_pop'] = (total_per_state['count_articles'] / total_per_state['population'])\n",
    "total_per_state.head()"
   ]
  },
  {
   "cell_type": "markdown",
   "id": "789fc794",
   "metadata": {},
   "source": [
    "Now we will print and save the top 10 US states by coverage."
   ]
  },
  {
   "cell_type": "code",
   "execution_count": 97,
   "id": "266442d3",
   "metadata": {},
   "outputs": [
    {
     "name": "stdout",
     "output_type": "stream",
     "text": [
      "The top 10 states by article coverage are:\n",
      "           state regional_division  population  count_articles  art_per_pop\n",
      "0        Vermont         Northeast      647064             329     0.000508\n",
      "1   North Dakota           Midwest      779261             356     0.000457\n",
      "2          Maine         Northeast     1385340             483     0.000349\n",
      "3   South Dakota           Midwest      909824             311     0.000342\n",
      "4           Iowa           Midwest     3200517            1042     0.000326\n",
      "5         Alaska              West      733583             149     0.000203\n",
      "6   Pennsylvania         Northeast    12972008            2556     0.000197\n",
      "7       Michigan           Midwest    10034113            1773     0.000177\n",
      "8        Wyoming              West      581381              99     0.000170\n",
      "9  New Hampshire         Northeast     1395231             234     0.000168\n"
     ]
    }
   ],
   "source": [
    "#Getting top coverage\n",
    "print(\"The top 10 states by article coverage are:\")\n",
    "top_10_coverage = total_per_state.sort_values('art_per_pop', ascending=False).reset_index(drop = True)[:10]\n",
    "print(top_10_coverage)\n",
    "\n",
    "#Saving top coverage\n",
    "top_10_coverage.to_csv('../results/top_10_coverage.csv')"
   ]
  },
  {
   "cell_type": "markdown",
   "id": "504dda21",
   "metadata": {},
   "source": [
    "Next we will print and save the bottom 10 US states by coverage."
   ]
  },
  {
   "cell_type": "code",
   "execution_count": 98,
   "id": "5b9eb0c4",
   "metadata": {},
   "outputs": [
    {
     "name": "stdout",
     "output_type": "stream",
     "text": [
      "The bottom 10 states by article coverage are:\n",
      "            state regional_division  population  count_articles  art_per_pop\n",
      "0  North Carolina             South    10698973              50     0.000005\n",
      "1          Nevada              West     3177772              19     0.000006\n",
      "2      California              West    39029342             482     0.000012\n",
      "3         Arizona              West     7359197              91     0.000012\n",
      "4        Virginia             South     8683619             133     0.000015\n",
      "5         Florida             South    22244823             411     0.000018\n",
      "6        Oklahoma             South     4019800              75     0.000019\n",
      "7          Kansas           Midwest     2937150              63     0.000021\n",
      "8        Maryland             South     6164660             157     0.000025\n",
      "9       Wisconsin           Midwest     5892539             191     0.000032\n"
     ]
    }
   ],
   "source": [
    "#Getting bottom coverage\n",
    "print(\"The bottom 10 states by article coverage are:\")\n",
    "bottom_10_coverage = total_per_state.sort_values('art_per_pop', ascending=True).reset_index(drop = True)[:10]\n",
    "print(bottom_10_coverage)\n",
    "\n",
    "#Saving bottom coverage\n",
    "bottom_10_coverage.to_csv('../results/bottom_10_coverage.csv')"
   ]
  },
  {
   "cell_type": "markdown",
   "id": "d13f4765",
   "metadata": {},
   "source": [
    "Now we will rank, print, and save the census divisions by article coverage"
   ]
  },
  {
   "cell_type": "code",
   "execution_count": 99,
   "id": "986400f2",
   "metadata": {},
   "outputs": [
    {
     "name": "stdout",
     "output_type": "stream",
     "text": [
      "The regions in descending order of articles per population are:\n",
      "  regional_division  population  count_articles  art_per_pop\n",
      "1         Northeast    53414201            5217     0.007112\n",
      "0           Midwest    66819672            8330     0.001642\n",
      "3              West    78743364            2491     0.000818\n",
      "2             South   128044389            5476     0.000744\n"
     ]
    }
   ],
   "source": [
    "#Grouping the populations and count of articles by division\n",
    "tot_by_reg = total_per_state.groupby('regional_division').sum().reset_index()\n",
    "\n",
    "#Recalculating the new art_per_pop column\n",
    "tot_by_reg['art_per_pop'] = (tot_by_reg['count_articles'] /\n",
    "                             total_per_state['population'])\n",
    "\n",
    "#Showing in descending order\n",
    "tot_by_reg = tot_by_reg.sort_values('art_per_pop', ascending=False)\n",
    "\n",
    "#Printing results\n",
    "print(\"The regions in descending order of articles per population are:\")\n",
    "print(tot_by_reg)\n",
    "\n",
    "#Saving table\n",
    "tot_by_reg.to_csv('../results/census_reg_by_tot_coverage.csv')"
   ]
  },
  {
   "cell_type": "markdown",
   "id": "76af4b1a",
   "metadata": {},
   "source": [
    "Next we will analyze high-quality articles per population. We consider high quality articles those which have a rating of FA or GA by ORES. We will begin by filtering our large data file to only contain articles which are of good quality."
   ]
  },
  {
   "cell_type": "code",
   "execution_count": 100,
   "id": "f6779f91",
   "metadata": {},
   "outputs": [],
   "source": [
    "#Limiting the dataset by ranking\n",
    "quality_df = ranking_df.loc[ranking_df['article_quality'].isin(['GA','FA'])]"
   ]
  },
  {
   "cell_type": "markdown",
   "id": "beaab943",
   "metadata": {},
   "source": [
    "Then we will create summary statistics (count of articles) by state as well as the articles/population by state."
   ]
  },
  {
   "cell_type": "code",
   "execution_count": 101,
   "id": "738c4fc8",
   "metadata": {},
   "outputs": [
    {
     "name": "stdout",
     "output_type": "stream",
     "text": [
      "Merge successful, 4928 rows\n"
     ]
    },
    {
     "data": {
      "text/html": [
       "<div>\n",
       "<style scoped>\n",
       "    .dataframe tbody tr th:only-of-type {\n",
       "        vertical-align: middle;\n",
       "    }\n",
       "\n",
       "    .dataframe tbody tr th {\n",
       "        vertical-align: top;\n",
       "    }\n",
       "\n",
       "    .dataframe thead th {\n",
       "        text-align: right;\n",
       "    }\n",
       "</style>\n",
       "<table border=\"1\" class=\"dataframe\">\n",
       "  <thead>\n",
       "    <tr style=\"text-align: right;\">\n",
       "      <th></th>\n",
       "      <th>state</th>\n",
       "      <th>regional_division</th>\n",
       "      <th>population</th>\n",
       "      <th>count_articles</th>\n",
       "      <th>art_per_pop</th>\n",
       "    </tr>\n",
       "  </thead>\n",
       "  <tbody>\n",
       "    <tr>\n",
       "      <th>0</th>\n",
       "      <td>Alabama</td>\n",
       "      <td>South</td>\n",
       "      <td>5074296</td>\n",
       "      <td>53</td>\n",
       "      <td>0.000010</td>\n",
       "    </tr>\n",
       "    <tr>\n",
       "      <th>1</th>\n",
       "      <td>Alaska</td>\n",
       "      <td>West</td>\n",
       "      <td>733583</td>\n",
       "      <td>31</td>\n",
       "      <td>0.000042</td>\n",
       "    </tr>\n",
       "    <tr>\n",
       "      <th>2</th>\n",
       "      <td>Arizona</td>\n",
       "      <td>West</td>\n",
       "      <td>7359197</td>\n",
       "      <td>24</td>\n",
       "      <td>0.000003</td>\n",
       "    </tr>\n",
       "    <tr>\n",
       "      <th>3</th>\n",
       "      <td>Arkansas</td>\n",
       "      <td>South</td>\n",
       "      <td>3045637</td>\n",
       "      <td>72</td>\n",
       "      <td>0.000024</td>\n",
       "    </tr>\n",
       "    <tr>\n",
       "      <th>4</th>\n",
       "      <td>California</td>\n",
       "      <td>West</td>\n",
       "      <td>39029342</td>\n",
       "      <td>173</td>\n",
       "      <td>0.000004</td>\n",
       "    </tr>\n",
       "  </tbody>\n",
       "</table>\n",
       "</div>"
      ],
      "text/plain": [
       "        state regional_division  population  count_articles  art_per_pop\n",
       "0     Alabama             South     5074296              53     0.000010\n",
       "1      Alaska              West      733583              31     0.000042\n",
       "2     Arizona              West     7359197              24     0.000003\n",
       "3    Arkansas             South     3045637              72     0.000024\n",
       "4  California              West    39029342             173     0.000004"
      ]
     },
     "execution_count": 101,
     "metadata": {},
     "output_type": "execute_result"
    }
   ],
   "source": [
    "#Summing articles grouped by state\n",
    "good_count_by_state = pd.DataFrame({\n",
    "    'count_articles': quality_df.groupby(['state']).size()}).reset_index()\n",
    "\n",
    "#Merging count into ranking_df\n",
    "ranking_good_count_by_state = pd.merge(quality_df, good_count_by_state, \n",
    "                                       how = 'left', on = 'state')\n",
    "\n",
    "#Verifying merge is correct\n",
    "if len(ranking_good_count_by_state) == len(quality_df):\n",
    "    print(\"Merge successful, {0} rows\".format(len(quality_df)))\n",
    "else:\n",
    "    print(\"ERROR in merge\")\n",
    "\n",
    "#Removing cols we dont need and deduping\n",
    "good_art_per_pop = ranking_good_count_by_state[['state','regional_division',\n",
    "                                         'population',\n",
    "                                          'count_articles']]\n",
    "good_art_per_pop = good_art_per_pop.drop_duplicates().reset_index(drop = True)\n",
    "\n",
    "#Creating total per population col\n",
    "total_good_per_state = good_art_per_pop.copy()\n",
    "total_good_per_state['art_per_pop'] = (total_good_per_state['count_articles'] \n",
    "                                       / total_good_per_state['population'])\n",
    "total_good_per_state.head()"
   ]
  },
  {
   "cell_type": "markdown",
   "id": "f4170b0a",
   "metadata": {},
   "source": [
    "Now we will print and save the top 10 US states by article quality."
   ]
  },
  {
   "cell_type": "code",
   "execution_count": 102,
   "id": "0116e2a1",
   "metadata": {},
   "outputs": [
    {
     "name": "stdout",
     "output_type": "stream",
     "text": [
      "The top 10 states by article quality are:\n",
      "           state regional_division  population  count_articles  art_per_pop\n",
      "0        Vermont         Northeast      647064              45     0.000070\n",
      "1        Wyoming              West      581381              39     0.000067\n",
      "2   South Dakota           Midwest      909824              56     0.000062\n",
      "3  West Virginia             South     1775156             105     0.000059\n",
      "4        Montana              West     1122867              55     0.000049\n",
      "5  New Hampshire         Northeast     1395231              63     0.000045\n",
      "6   Pennsylvania         Northeast    12972008             566     0.000044\n",
      "7       Missouri           Midwest     6177957             263     0.000043\n",
      "8         Alaska              West      733583              31     0.000042\n",
      "9     New Jersey         Northeast     9261699             379     0.000041\n"
     ]
    }
   ],
   "source": [
    "#Getting top coverage\n",
    "print(\"The top 10 states by article quality are:\")\n",
    "top_10_quality = total_good_per_state.sort_values('art_per_pop', ascending=False).reset_index(drop = True)[:10]\n",
    "print(top_10_quality)\n",
    "\n",
    "#Saving top coverage\n",
    "top_10_quality.to_csv('../results/top_10_quality.csv')"
   ]
  },
  {
   "cell_type": "markdown",
   "id": "04562701",
   "metadata": {},
   "source": [
    "Next we will print and save the bottom 10 US states by article quality."
   ]
  },
  {
   "cell_type": "code",
   "execution_count": 103,
   "id": "a196d53c",
   "metadata": {},
   "outputs": [
    {
     "name": "stdout",
     "output_type": "stream",
     "text": [
      "The bottom 10 states by article quality are:\n",
      "            state regional_division  population  count_articles  art_per_pop\n",
      "0  North Carolina             South    10698973              20     0.000002\n",
      "1        Virginia             South     8683619              18     0.000002\n",
      "2          Nevada              West     3177772               8     0.000003\n",
      "3         Arizona              West     7359197              24     0.000003\n",
      "4      California              West    39029342             173     0.000004\n",
      "5         Florida             South    22244823             118     0.000005\n",
      "6        New York         Northeast    19677151             111     0.000006\n",
      "7        Maryland             South     6164660              42     0.000007\n",
      "8          Kansas           Midwest     2937150              22     0.000007\n",
      "9        Oklahoma             South     4019800              31     0.000008\n"
     ]
    }
   ],
   "source": [
    "#Getting bottom coverage\n",
    "print(\"The bottom 10 states by article quality are:\")\n",
    "bottom_10_quality = total_good_per_state.sort_values('art_per_pop', ascending=True).reset_index(drop = True)[:10]\n",
    "print(bottom_10_quality)\n",
    "\n",
    "#Saving top coverage\n",
    "bottom_10_quality.to_csv('../results/bottom_10_quality.csv')"
   ]
  },
  {
   "cell_type": "markdown",
   "id": "d673d3be",
   "metadata": {},
   "source": [
    "Now we will rank, print, and save the census divisions by article quality."
   ]
  },
  {
   "cell_type": "code",
   "execution_count": 104,
   "id": "e01d5894",
   "metadata": {},
   "outputs": [
    {
     "name": "stdout",
     "output_type": "stream",
     "text": [
      "The regions in descending order of quality articles per population are:\n",
      "  regional_division  population  count_articles  art_per_pop\n",
      "1         Northeast    53414201            1281     0.000024\n",
      "0           Midwest    66819672            1349     0.000020\n",
      "2             South   128044389            1473     0.000012\n",
      "3              West    78743364             825     0.000010\n"
     ]
    }
   ],
   "source": [
    "#Grouping the populations and count of articles by division\n",
    "tot_good_by_reg = total_good_per_state.groupby('regional_division').sum().reset_index()\n",
    "\n",
    "#Recalculating the new art_per_pop column\n",
    "tot_good_by_reg['art_per_pop'] = (tot_good_by_reg['count_articles'] /\n",
    "                             tot_good_by_reg['population'])\n",
    "\n",
    "#Showing in descending order\n",
    "tot_good_by_reg = tot_good_by_reg.sort_values('art_per_pop', ascending=False)\n",
    "\n",
    "#Printing results\n",
    "print(\"The regions in descending order of quality articles per population are:\")\n",
    "print(tot_good_by_reg)\n",
    "\n",
    "#Saving table\n",
    "tot_good_by_reg.to_csv('../results/census_reg_by_quality_coverage.csv')"
   ]
  },
  {
   "cell_type": "code",
   "execution_count": null,
   "id": "dd34e6d9",
   "metadata": {},
   "outputs": [],
   "source": []
  }
 ],
 "metadata": {
  "kernelspec": {
   "display_name": "Python 3 (ipykernel)",
   "language": "python",
   "name": "python3"
  },
  "language_info": {
   "codemirror_mode": {
    "name": "ipython",
    "version": 3
   },
   "file_extension": ".py",
   "mimetype": "text/x-python",
   "name": "python",
   "nbconvert_exporter": "python",
   "pygments_lexer": "ipython3",
   "version": "3.9.12"
  }
 },
 "nbformat": 4,
 "nbformat_minor": 5
}
