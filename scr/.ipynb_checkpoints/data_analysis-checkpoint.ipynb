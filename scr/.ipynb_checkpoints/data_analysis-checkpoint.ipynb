{
 "cells": [
  {
   "cell_type": "markdown",
   "id": "98d050c6",
   "metadata": {},
   "source": [
    "## Purpose\n",
    "\n",
    "The purpose of this code is to analyze data on total articles/population and quality of articles/population on a state-by-state and divisional basis. High quality articles will be ranked with either \"FA\" or \"GA\". We will begin by reading in Python libraries and uploading our table for analysis."
   ]
  },
  {
   "cell_type": "code",
   "execution_count": 21,
   "id": "d2e35cd0",
   "metadata": {},
   "outputs": [
    {
     "data": {
      "text/html": [
       "<div>\n",
       "<style scoped>\n",
       "    .dataframe tbody tr th:only-of-type {\n",
       "        vertical-align: middle;\n",
       "    }\n",
       "\n",
       "    .dataframe tbody tr th {\n",
       "        vertical-align: top;\n",
       "    }\n",
       "\n",
       "    .dataframe thead th {\n",
       "        text-align: right;\n",
       "    }\n",
       "</style>\n",
       "<table border=\"1\" class=\"dataframe\">\n",
       "  <thead>\n",
       "    <tr style=\"text-align: right;\">\n",
       "      <th></th>\n",
       "      <th>state</th>\n",
       "      <th>regional_division</th>\n",
       "      <th>population</th>\n",
       "      <th>article_title</th>\n",
       "      <th>revision_id</th>\n",
       "      <th>article_quality</th>\n",
       "    </tr>\n",
       "  </thead>\n",
       "  <tbody>\n",
       "    <tr>\n",
       "      <th>0</th>\n",
       "      <td>Alabama</td>\n",
       "      <td>East South Central</td>\n",
       "      <td>5074296</td>\n",
       "      <td>Abbeville, Alabama</td>\n",
       "      <td>1171163550</td>\n",
       "      <td>C</td>\n",
       "    </tr>\n",
       "    <tr>\n",
       "      <th>1</th>\n",
       "      <td>Alabama</td>\n",
       "      <td>East South Central</td>\n",
       "      <td>5074296</td>\n",
       "      <td>Adamsville, Alabama</td>\n",
       "      <td>1177621427</td>\n",
       "      <td>C</td>\n",
       "    </tr>\n",
       "    <tr>\n",
       "      <th>2</th>\n",
       "      <td>Alabama</td>\n",
       "      <td>East South Central</td>\n",
       "      <td>5074296</td>\n",
       "      <td>Addison, Alabama</td>\n",
       "      <td>1168359898</td>\n",
       "      <td>C</td>\n",
       "    </tr>\n",
       "    <tr>\n",
       "      <th>3</th>\n",
       "      <td>Alabama</td>\n",
       "      <td>East South Central</td>\n",
       "      <td>5074296</td>\n",
       "      <td>Akron, Alabama</td>\n",
       "      <td>1165909508</td>\n",
       "      <td>GA</td>\n",
       "    </tr>\n",
       "    <tr>\n",
       "      <th>4</th>\n",
       "      <td>Alabama</td>\n",
       "      <td>East South Central</td>\n",
       "      <td>5074296</td>\n",
       "      <td>Alabaster, Alabama</td>\n",
       "      <td>1179139816</td>\n",
       "      <td>C</td>\n",
       "    </tr>\n",
       "  </tbody>\n",
       "</table>\n",
       "</div>"
      ],
      "text/plain": [
       "     state   regional_division  population        article_title  revision_id  \\\n",
       "0  Alabama  East South Central     5074296   Abbeville, Alabama   1171163550   \n",
       "1  Alabama  East South Central     5074296  Adamsville, Alabama   1177621427   \n",
       "2  Alabama  East South Central     5074296     Addison, Alabama   1168359898   \n",
       "3  Alabama  East South Central     5074296       Akron, Alabama   1165909508   \n",
       "4  Alabama  East South Central     5074296   Alabaster, Alabama   1179139816   \n",
       "\n",
       "  article_quality  \n",
       "0               C  \n",
       "1               C  \n",
       "2               C  \n",
       "3              GA  \n",
       "4               C  "
      ]
     },
     "execution_count": 21,
     "metadata": {},
     "output_type": "execute_result"
    }
   ],
   "source": [
    "#Import python libraries\n",
    "import json\n",
    "import time\n",
    "import urllib.parse\n",
    "import requests\n",
    "import pandas as pd\n",
    "\n",
    "#Read in file for analysis\n",
    "ranking_df = pd.read_csv('../clean_data/wp_scored_city_articles_by_state.csv')\n",
    "ranking_df.head()"
   ]
  },
  {
   "cell_type": "markdown",
   "id": "c5955cec",
   "metadata": {},
   "source": [
    "First we will find the count of articles per state population and add it to its own dataframe."
   ]
  },
  {
   "cell_type": "code",
   "execution_count": 22,
   "id": "09177b47",
   "metadata": {},
   "outputs": [
    {
     "name": "stdout",
     "output_type": "stream",
     "text": [
      "Merge successful, 21514 rows\n"
     ]
    },
    {
     "data": {
      "text/html": [
       "<div>\n",
       "<style scoped>\n",
       "    .dataframe tbody tr th:only-of-type {\n",
       "        vertical-align: middle;\n",
       "    }\n",
       "\n",
       "    .dataframe tbody tr th {\n",
       "        vertical-align: top;\n",
       "    }\n",
       "\n",
       "    .dataframe thead th {\n",
       "        text-align: right;\n",
       "    }\n",
       "</style>\n",
       "<table border=\"1\" class=\"dataframe\">\n",
       "  <thead>\n",
       "    <tr style=\"text-align: right;\">\n",
       "      <th></th>\n",
       "      <th>state</th>\n",
       "      <th>regional_division</th>\n",
       "      <th>population</th>\n",
       "      <th>count_articles</th>\n",
       "    </tr>\n",
       "  </thead>\n",
       "  <tbody>\n",
       "    <tr>\n",
       "      <th>0</th>\n",
       "      <td>Alabama</td>\n",
       "      <td>East South Central</td>\n",
       "      <td>5074296</td>\n",
       "      <td>461</td>\n",
       "    </tr>\n",
       "    <tr>\n",
       "      <th>1</th>\n",
       "      <td>Alaska</td>\n",
       "      <td>Pacific</td>\n",
       "      <td>733583</td>\n",
       "      <td>149</td>\n",
       "    </tr>\n",
       "    <tr>\n",
       "      <th>2</th>\n",
       "      <td>Arizona</td>\n",
       "      <td>Mountain</td>\n",
       "      <td>7359197</td>\n",
       "      <td>91</td>\n",
       "    </tr>\n",
       "    <tr>\n",
       "      <th>3</th>\n",
       "      <td>Arkansas</td>\n",
       "      <td>West South Central</td>\n",
       "      <td>3045637</td>\n",
       "      <td>500</td>\n",
       "    </tr>\n",
       "    <tr>\n",
       "      <th>4</th>\n",
       "      <td>California</td>\n",
       "      <td>Pacific</td>\n",
       "      <td>39029342</td>\n",
       "      <td>482</td>\n",
       "    </tr>\n",
       "  </tbody>\n",
       "</table>\n",
       "</div>"
      ],
      "text/plain": [
       "        state   regional_division  population  count_articles\n",
       "0     Alabama  East South Central     5074296             461\n",
       "1      Alaska             Pacific      733583             149\n",
       "2     Arizona            Mountain     7359197              91\n",
       "3    Arkansas  West South Central     3045637             500\n",
       "4  California             Pacific    39029342             482"
      ]
     },
     "execution_count": 22,
     "metadata": {},
     "output_type": "execute_result"
    }
   ],
   "source": [
    "#Summing articles grouped by state\n",
    "count_by_state = pd.DataFrame({\n",
    "    'count_articles': ranking_df.groupby(['state']).size()}).reset_index()\n",
    "count_by_state.head()\n",
    "\n",
    "#Merging count into ranking_df\n",
    "ranking_count_by_state = pd.merge(ranking_df, count_by_state, how = 'left',\n",
    "                              on = 'state')\n",
    "\n",
    "#Verifying merge is correct\n",
    "if len(ranking_count_by_state) == len(ranking_df):\n",
    "    print(\"Merge successful, {0} rows\".format(len(ranking_df)))\n",
    "else:\n",
    "    print(\"ERROR in merge\")\n",
    "\n",
    "#Removing cols we dont need and deduping\n",
    "tot_art_per_pop = ranking_count_by_state[['state','regional_division',\n",
    "                                         'population',\n",
    "                                          'count_articles']]\n",
    "tot_art_per_pop = tot_art_per_pop.drop_duplicates().reset_index(drop = True)\n",
    "tot_art_per_pop.head()"
   ]
  },
  {
   "cell_type": "markdown",
   "id": "d61300fa",
   "metadata": {},
   "source": [
    "Now we will calculate the total articles per population by state."
   ]
  },
  {
   "cell_type": "code",
   "execution_count": 23,
   "id": "37837322",
   "metadata": {},
   "outputs": [
    {
     "data": {
      "text/html": [
       "<div>\n",
       "<style scoped>\n",
       "    .dataframe tbody tr th:only-of-type {\n",
       "        vertical-align: middle;\n",
       "    }\n",
       "\n",
       "    .dataframe tbody tr th {\n",
       "        vertical-align: top;\n",
       "    }\n",
       "\n",
       "    .dataframe thead th {\n",
       "        text-align: right;\n",
       "    }\n",
       "</style>\n",
       "<table border=\"1\" class=\"dataframe\">\n",
       "  <thead>\n",
       "    <tr style=\"text-align: right;\">\n",
       "      <th></th>\n",
       "      <th>state</th>\n",
       "      <th>regional_division</th>\n",
       "      <th>population</th>\n",
       "      <th>count_articles</th>\n",
       "      <th>art_per_pop</th>\n",
       "    </tr>\n",
       "  </thead>\n",
       "  <tbody>\n",
       "    <tr>\n",
       "      <th>0</th>\n",
       "      <td>Alabama</td>\n",
       "      <td>East South Central</td>\n",
       "      <td>5074296</td>\n",
       "      <td>461</td>\n",
       "      <td>0.000091</td>\n",
       "    </tr>\n",
       "    <tr>\n",
       "      <th>1</th>\n",
       "      <td>Alaska</td>\n",
       "      <td>Pacific</td>\n",
       "      <td>733583</td>\n",
       "      <td>149</td>\n",
       "      <td>0.000203</td>\n",
       "    </tr>\n",
       "    <tr>\n",
       "      <th>2</th>\n",
       "      <td>Arizona</td>\n",
       "      <td>Mountain</td>\n",
       "      <td>7359197</td>\n",
       "      <td>91</td>\n",
       "      <td>0.000012</td>\n",
       "    </tr>\n",
       "    <tr>\n",
       "      <th>3</th>\n",
       "      <td>Arkansas</td>\n",
       "      <td>West South Central</td>\n",
       "      <td>3045637</td>\n",
       "      <td>500</td>\n",
       "      <td>0.000164</td>\n",
       "    </tr>\n",
       "    <tr>\n",
       "      <th>4</th>\n",
       "      <td>California</td>\n",
       "      <td>Pacific</td>\n",
       "      <td>39029342</td>\n",
       "      <td>482</td>\n",
       "      <td>0.000012</td>\n",
       "    </tr>\n",
       "  </tbody>\n",
       "</table>\n",
       "</div>"
      ],
      "text/plain": [
       "        state   regional_division  population  count_articles  art_per_pop\n",
       "0     Alabama  East South Central     5074296             461     0.000091\n",
       "1      Alaska             Pacific      733583             149     0.000203\n",
       "2     Arizona            Mountain     7359197              91     0.000012\n",
       "3    Arkansas  West South Central     3045637             500     0.000164\n",
       "4  California             Pacific    39029342             482     0.000012"
      ]
     },
     "execution_count": 23,
     "metadata": {},
     "output_type": "execute_result"
    }
   ],
   "source": [
    "#Creating total per population col\n",
    "total_per_state = tot_art_per_pop.copy()\n",
    "total_per_state['art_per_pop'] = (total_per_state['count_articles'] / total_per_state['population'])\n",
    "total_per_state.head()"
   ]
  },
  {
   "cell_type": "markdown",
   "id": "789fc794",
   "metadata": {},
   "source": [
    "Now we will print and save the top 10 US states by coverage."
   ]
  },
  {
   "cell_type": "code",
   "execution_count": 24,
   "id": "266442d3",
   "metadata": {},
   "outputs": [
    {
     "name": "stdout",
     "output_type": "stream",
     "text": [
      "The top 10 states by article coverage are:\n",
      "           state   regional_division  population  count_articles  art_per_pop\n",
      "0        Vermont         New England      647064             329     0.000508\n",
      "1   North Dakota  West North Central      779261             356     0.000457\n",
      "2          Maine         New England     1385340             483     0.000349\n",
      "3   South Dakota  West North Central      909824             311     0.000342\n",
      "4           Iowa  West North Central     3200517            1042     0.000326\n",
      "5         Alaska             Pacific      733583             149     0.000203\n",
      "6   Pennsylvania     Middle Atlantic    12972008            2556     0.000197\n",
      "7       Michigan  East North Central    10034113            1773     0.000177\n",
      "8        Wyoming            Mountain      581381              99     0.000170\n",
      "9  New Hampshire         New England     1395231             234     0.000168\n"
     ]
    }
   ],
   "source": [
    "#Getting top coverage\n",
    "print(\"The top 10 states by article coverage are:\")\n",
    "top_10_coverage = total_per_state.sort_values('art_per_pop', ascending=False).reset_index(drop = True)[:10]\n",
    "print(top_10_coverage)\n",
    "\n",
    "#Saving top coverage\n",
    "top_10_coverage.to_csv('../results/top_10_coverage.csv')"
   ]
  },
  {
   "cell_type": "markdown",
   "id": "504dda21",
   "metadata": {},
   "source": [
    "Next we will print and save the bottom 10 US states by coverage."
   ]
  },
  {
   "cell_type": "code",
   "execution_count": 25,
   "id": "5b9eb0c4",
   "metadata": {},
   "outputs": [
    {
     "name": "stdout",
     "output_type": "stream",
     "text": [
      "The bottom 10 states by article coverage are:\n",
      "            state   regional_division  population  count_articles  art_per_pop\n",
      "0  North Carolina      South Atlantic    10698973              50     0.000005\n",
      "1          Nevada            Mountain     3177772              19     0.000006\n",
      "2      California             Pacific    39029342             482     0.000012\n",
      "3         Arizona            Mountain     7359197              91     0.000012\n",
      "4        Virginia      South Atlantic     8683619             133     0.000015\n",
      "5         Florida      South Atlantic    22244823             411     0.000018\n",
      "6        Oklahoma  West South Central     4019800              75     0.000019\n",
      "7          Kansas  West North Central     2937150              63     0.000021\n",
      "8        Maryland      South Atlantic     6164660             157     0.000025\n",
      "9       Wisconsin  East North Central     5892539             191     0.000032\n"
     ]
    }
   ],
   "source": [
    "#Getting bottom coverage\n",
    "print(\"The bottom 10 states by article coverage are:\")\n",
    "bottom_10_coverage = total_per_state.sort_values('art_per_pop', ascending=True).reset_index(drop = True)[:10]\n",
    "print(bottom_10_coverage)\n",
    "\n",
    "#Saving bottom coverage\n",
    "bottom_10_coverage.to_csv('../results/bottom_10_coverage.csv')"
   ]
  },
  {
   "cell_type": "markdown",
   "id": "d13f4765",
   "metadata": {},
   "source": [
    "Now we will rank, print, and save the census divisions by article coverage."
   ]
  },
  {
   "cell_type": "code",
   "execution_count": 32,
   "id": "986400f2",
   "metadata": {},
   "outputs": [
    {
     "name": "stdout",
     "output_type": "stream",
     "text": [
      "The Census Divisions in descending order of articles per population are:\n",
      "    regional_division  population  count_articles  art_per_pop\n",
      "0  West North Central    19721893            3577     0.000181\n",
      "1         New England    11503343            1437     0.000125\n",
      "2  East North Central    47097779            4753     0.000101\n",
      "3     Middle Atlantic    41910858            3780     0.000090\n",
      "4  East South Central    19578002            1528     0.000078\n",
      "5  West South Central    41685250            2099     0.000050\n",
      "6            Mountain    25514320            1187     0.000047\n",
      "7      South Atlantic    66781137            1849     0.000028\n",
      "8             Pacific    53229044            1304     0.000024\n"
     ]
    }
   ],
   "source": [
    "#Grouping the populations and count of articles by division\n",
    "tot_by_reg = total_per_state.groupby('regional_division').sum().reset_index()\n",
    "\n",
    "#Recalculating the new art_per_pop column\n",
    "tot_by_reg['art_per_pop'] = (tot_by_reg['count_articles'] /\n",
    "                             tot_by_reg['population'])\n",
    "\n",
    "#Showing in descending order\n",
    "tot_by_reg = tot_by_reg.sort_values('art_per_pop', ascending=False).reset_index(drop = True)\n",
    "\n",
    "#Printing results\n",
    "print(\"The Census Divisions in descending order of articles per population are:\")\n",
    "print(tot_by_reg)\n",
    "\n",
    "#Saving table\n",
    "tot_by_reg.to_csv('../results/census_reg_by_tot_coverage.csv')"
   ]
  },
  {
   "cell_type": "markdown",
   "id": "76af4b1a",
   "metadata": {},
   "source": [
    "Next we will analyze high-quality articles per population. We consider high quality articles those which have a rating of FA or GA by ORES. We will begin by filtering our large data file to only contain articles which are of high quality."
   ]
  },
  {
   "cell_type": "code",
   "execution_count": 27,
   "id": "f6779f91",
   "metadata": {},
   "outputs": [],
   "source": [
    "#Limiting the dataset by ranking\n",
    "quality_df = ranking_df.loc[ranking_df['article_quality'].isin(['GA','FA'])]"
   ]
  },
  {
   "cell_type": "markdown",
   "id": "beaab943",
   "metadata": {},
   "source": [
    "Then we will create summary statistics (count of articles) by state as well as the articles/population by state."
   ]
  },
  {
   "cell_type": "code",
   "execution_count": 28,
   "id": "738c4fc8",
   "metadata": {},
   "outputs": [
    {
     "name": "stdout",
     "output_type": "stream",
     "text": [
      "Merge successful, 4928 rows\n"
     ]
    },
    {
     "data": {
      "text/html": [
       "<div>\n",
       "<style scoped>\n",
       "    .dataframe tbody tr th:only-of-type {\n",
       "        vertical-align: middle;\n",
       "    }\n",
       "\n",
       "    .dataframe tbody tr th {\n",
       "        vertical-align: top;\n",
       "    }\n",
       "\n",
       "    .dataframe thead th {\n",
       "        text-align: right;\n",
       "    }\n",
       "</style>\n",
       "<table border=\"1\" class=\"dataframe\">\n",
       "  <thead>\n",
       "    <tr style=\"text-align: right;\">\n",
       "      <th></th>\n",
       "      <th>state</th>\n",
       "      <th>regional_division</th>\n",
       "      <th>population</th>\n",
       "      <th>count_articles</th>\n",
       "      <th>art_per_pop</th>\n",
       "    </tr>\n",
       "  </thead>\n",
       "  <tbody>\n",
       "    <tr>\n",
       "      <th>0</th>\n",
       "      <td>Alabama</td>\n",
       "      <td>East South Central</td>\n",
       "      <td>5074296</td>\n",
       "      <td>53</td>\n",
       "      <td>0.000010</td>\n",
       "    </tr>\n",
       "    <tr>\n",
       "      <th>1</th>\n",
       "      <td>Alaska</td>\n",
       "      <td>Pacific</td>\n",
       "      <td>733583</td>\n",
       "      <td>31</td>\n",
       "      <td>0.000042</td>\n",
       "    </tr>\n",
       "    <tr>\n",
       "      <th>2</th>\n",
       "      <td>Arizona</td>\n",
       "      <td>Mountain</td>\n",
       "      <td>7359197</td>\n",
       "      <td>24</td>\n",
       "      <td>0.000003</td>\n",
       "    </tr>\n",
       "    <tr>\n",
       "      <th>3</th>\n",
       "      <td>Arkansas</td>\n",
       "      <td>West South Central</td>\n",
       "      <td>3045637</td>\n",
       "      <td>72</td>\n",
       "      <td>0.000024</td>\n",
       "    </tr>\n",
       "    <tr>\n",
       "      <th>4</th>\n",
       "      <td>California</td>\n",
       "      <td>Pacific</td>\n",
       "      <td>39029342</td>\n",
       "      <td>173</td>\n",
       "      <td>0.000004</td>\n",
       "    </tr>\n",
       "  </tbody>\n",
       "</table>\n",
       "</div>"
      ],
      "text/plain": [
       "        state   regional_division  population  count_articles  art_per_pop\n",
       "0     Alabama  East South Central     5074296              53     0.000010\n",
       "1      Alaska             Pacific      733583              31     0.000042\n",
       "2     Arizona            Mountain     7359197              24     0.000003\n",
       "3    Arkansas  West South Central     3045637              72     0.000024\n",
       "4  California             Pacific    39029342             173     0.000004"
      ]
     },
     "execution_count": 28,
     "metadata": {},
     "output_type": "execute_result"
    }
   ],
   "source": [
    "#Summing articles grouped by state\n",
    "good_count_by_state = pd.DataFrame({\n",
    "    'count_articles': quality_df.groupby(['state']).size()}).reset_index()\n",
    "\n",
    "#Merging count into ranking_df\n",
    "ranking_good_count_by_state = pd.merge(quality_df, good_count_by_state, \n",
    "                                       how = 'left', on = 'state')\n",
    "\n",
    "#Verifying merge is correct\n",
    "if len(ranking_good_count_by_state) == len(quality_df):\n",
    "    print(\"Merge successful, {0} rows\".format(len(quality_df)))\n",
    "else:\n",
    "    print(\"ERROR in merge\")\n",
    "\n",
    "#Removing cols we dont need and deduping\n",
    "good_art_per_pop = ranking_good_count_by_state[['state','regional_division',\n",
    "                                         'population',\n",
    "                                          'count_articles']]\n",
    "good_art_per_pop = good_art_per_pop.drop_duplicates().reset_index(drop = True)\n",
    "\n",
    "#Creating total per population col\n",
    "total_good_per_state = good_art_per_pop.copy()\n",
    "total_good_per_state['art_per_pop'] = (total_good_per_state['count_articles'] \n",
    "                                       / total_good_per_state['population'])\n",
    "total_good_per_state.head()"
   ]
  },
  {
   "cell_type": "markdown",
   "id": "f4170b0a",
   "metadata": {},
   "source": [
    "Now we will print and save the top 10 US states by article quality."
   ]
  },
  {
   "cell_type": "code",
   "execution_count": 29,
   "id": "0116e2a1",
   "metadata": {},
   "outputs": [
    {
     "name": "stdout",
     "output_type": "stream",
     "text": [
      "The top 10 states by article quality are:\n",
      "           state   regional_division  population  count_articles  art_per_pop\n",
      "0        Vermont         New England      647064              45     0.000070\n",
      "1        Wyoming            Mountain      581381              39     0.000067\n",
      "2   South Dakota  West North Central      909824              56     0.000062\n",
      "3  West Virginia      South Atlantic     1775156             105     0.000059\n",
      "4        Montana            Mountain     1122867              55     0.000049\n",
      "5  New Hampshire         New England     1395231              63     0.000045\n",
      "6   Pennsylvania     Middle Atlantic    12972008             566     0.000044\n",
      "7       Missouri  West North Central     6177957             263     0.000043\n",
      "8         Alaska             Pacific      733583              31     0.000042\n",
      "9     New Jersey     Middle Atlantic     9261699             379     0.000041\n"
     ]
    }
   ],
   "source": [
    "#Getting top coverage\n",
    "print(\"The top 10 states by article quality are:\")\n",
    "top_10_quality = total_good_per_state.sort_values('art_per_pop', ascending=False).reset_index(drop = True)[:10]\n",
    "print(top_10_quality)\n",
    "\n",
    "#Saving top coverage\n",
    "top_10_quality.to_csv('../results/top_10_quality.csv')"
   ]
  },
  {
   "cell_type": "markdown",
   "id": "04562701",
   "metadata": {},
   "source": [
    "Next we will print and save the bottom 10 US states by article quality."
   ]
  },
  {
   "cell_type": "code",
   "execution_count": 30,
   "id": "a196d53c",
   "metadata": {},
   "outputs": [
    {
     "name": "stdout",
     "output_type": "stream",
     "text": [
      "The bottom 10 states by article quality are:\n",
      "            state   regional_division  population  count_articles  art_per_pop\n",
      "0  North Carolina      South Atlantic    10698973              20     0.000002\n",
      "1        Virginia      South Atlantic     8683619              18     0.000002\n",
      "2          Nevada            Mountain     3177772               8     0.000003\n",
      "3         Arizona            Mountain     7359197              24     0.000003\n",
      "4      California             Pacific    39029342             173     0.000004\n",
      "5         Florida      South Atlantic    22244823             118     0.000005\n",
      "6        New York     Middle Atlantic    19677151             111     0.000006\n",
      "7        Maryland      South Atlantic     6164660              42     0.000007\n",
      "8          Kansas  West North Central     2937150              22     0.000007\n",
      "9        Oklahoma  West South Central     4019800              31     0.000008\n"
     ]
    }
   ],
   "source": [
    "#Getting bottom coverage\n",
    "print(\"The bottom 10 states by article quality are:\")\n",
    "bottom_10_quality = total_good_per_state.sort_values('art_per_pop', ascending=True).reset_index(drop = True)[:10]\n",
    "print(bottom_10_quality)\n",
    "\n",
    "#Saving top coverage\n",
    "bottom_10_quality.to_csv('../results/bottom_10_quality.csv')"
   ]
  },
  {
   "cell_type": "markdown",
   "id": "d673d3be",
   "metadata": {},
   "source": [
    "Now we will rank, print, and save the census divisions by article quality."
   ]
  },
  {
   "cell_type": "code",
   "execution_count": 33,
   "id": "e01d5894",
   "metadata": {},
   "outputs": [
    {
     "name": "stdout",
     "output_type": "stream",
     "text": [
      "The Census Divisions in descending order of quality articles per population are:\n",
      "    regional_division  population  count_articles  art_per_pop\n",
      "0  West North Central    19721893             637     0.000032\n",
      "1     Middle Atlantic    41910858            1056     0.000025\n",
      "2         New England    11503343             225     0.000020\n",
      "3  East South Central    19578002             316     0.000016\n",
      "4  West South Central    41685250             633     0.000015\n",
      "5  East North Central    47097779             712     0.000015\n",
      "6            Mountain    25514320             335     0.000013\n",
      "7             Pacific    53229044             490     0.000009\n",
      "8      South Atlantic    66781137             524     0.000008\n"
     ]
    }
   ],
   "source": [
    "#Grouping the populations and count of articles by division\n",
    "tot_good_by_reg = total_good_per_state.groupby('regional_division').sum().reset_index()\n",
    "\n",
    "#Recalculating the new art_per_pop column\n",
    "tot_good_by_reg['art_per_pop'] = (tot_good_by_reg['count_articles'] /\n",
    "                             tot_good_by_reg['population'])\n",
    "\n",
    "#Showing in descending order\n",
    "tot_good_by_reg = tot_good_by_reg.sort_values('art_per_pop', ascending=False).reset_index(drop = True)\n",
    "\n",
    "#Printing results\n",
    "print(\"The Census Divisions in descending order of quality articles per population are:\")\n",
    "print(tot_good_by_reg)\n",
    "\n",
    "#Saving table\n",
    "tot_good_by_reg.to_csv('../results/census_reg_by_quality_coverage.csv')"
   ]
  },
  {
   "cell_type": "code",
   "execution_count": null,
   "id": "dd34e6d9",
   "metadata": {},
   "outputs": [],
   "source": []
  }
 ],
 "metadata": {
  "kernelspec": {
   "display_name": "Python 3 (ipykernel)",
   "language": "python",
   "name": "python3"
  },
  "language_info": {
   "codemirror_mode": {
    "name": "ipython",
    "version": 3
   },
   "file_extension": ".py",
   "mimetype": "text/x-python",
   "name": "python",
   "nbconvert_exporter": "python",
   "pygments_lexer": "ipython3",
   "version": "3.9.12"
  }
 },
 "nbformat": 4,
 "nbformat_minor": 5
}
