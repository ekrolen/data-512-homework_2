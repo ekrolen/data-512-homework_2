{
 "cells": [
  {
   "cell_type": "markdown",
   "id": "ecafc369",
   "metadata": {},
   "source": [
    "## Purpose\n",
    "\n",
    "The purpose of this code is to process data on article quality predictions from ORES. \n",
    "\n",
    "The article source data comes from English Wikipedia, the text of which is licensed under \"Creative Commons Attribution Share-Alike license\" (https://en.wikipedia.org/wiki/Wikipedia:Text_of_the_Creative_Commons_Attribution-ShareAlike_3.0_Unported_License)\n",
    "\n",
    "We will be using the MediaWiki REST API for English Wikipedia. To get more information on the API please use the following link: https://www.mediawiki.org/wiki/API:Main_page. The following link may also be helpful when looking for more documentation: https://www.mediawiki.org/wiki/API:Info\n",
    "\n",
    "We will leverage code developed by Dr. David W. McDonald for use in Data 512  which is provided under Creative Commons CC-BY license. (https://creativecommons.org/ and https://creativecommons.org/licenses/by/4.0/). The file can be found at this link: https://drive.google.com/drive/folders/1FtvWV31DHE8HIMdEsPGuCXPz0PMvShfl\n",
    "\n",
    "We will also be using the ORES API. Information on the API itself can be found at https://www.mediawiki.org/wiki/ORES, with original API documentation from https://ores.wikimedia.org/docs and new LiftWing documentation from https://wikitech.wikimedia.org/wiki/Machine_Learning/LiftWing/Usage.\n",
    "\n",
    "We will begin by reading in standard Python libraries."
   ]
  },
  {
   "cell_type": "code",
   "execution_count": 96,
   "id": "3f96f695",
   "metadata": {},
   "outputs": [],
   "source": [
    "#Import python libraries\n",
    "import json\n",
    "import time\n",
    "import urllib.parse\n",
    "import requests\n",
    "import pandas as pd"
   ]
  },
  {
   "cell_type": "markdown",
   "id": "742f2033",
   "metadata": {},
   "source": [
    "To conduct our final analysis we will need to combine data with state per article, rating and revision id per article, population by state, and regional division by state. We start by reading in the rating per article and turning it into a dataframe."
   ]
  },
  {
   "cell_type": "code",
   "execution_count": 97,
   "id": "be36b062",
   "metadata": {},
   "outputs": [
    {
     "data": {
      "text/html": [
       "<div>\n",
       "<style scoped>\n",
       "    .dataframe tbody tr th:only-of-type {\n",
       "        vertical-align: middle;\n",
       "    }\n",
       "\n",
       "    .dataframe tbody tr th {\n",
       "        vertical-align: top;\n",
       "    }\n",
       "\n",
       "    .dataframe thead th {\n",
       "        text-align: right;\n",
       "    }\n",
       "</style>\n",
       "<table border=\"1\" class=\"dataframe\">\n",
       "  <thead>\n",
       "    <tr style=\"text-align: right;\">\n",
       "      <th></th>\n",
       "      <th>article_title</th>\n",
       "      <th>article_quality</th>\n",
       "    </tr>\n",
       "  </thead>\n",
       "  <tbody>\n",
       "    <tr>\n",
       "      <th>0</th>\n",
       "      <td>Abbeville, Alabama</td>\n",
       "      <td>C</td>\n",
       "    </tr>\n",
       "    <tr>\n",
       "      <th>1</th>\n",
       "      <td>Adamsville, Alabama</td>\n",
       "      <td>C</td>\n",
       "    </tr>\n",
       "    <tr>\n",
       "      <th>2</th>\n",
       "      <td>Addison, Alabama</td>\n",
       "      <td>C</td>\n",
       "    </tr>\n",
       "    <tr>\n",
       "      <th>3</th>\n",
       "      <td>Akron, Alabama</td>\n",
       "      <td>GA</td>\n",
       "    </tr>\n",
       "    <tr>\n",
       "      <th>4</th>\n",
       "      <td>Alabaster, Alabama</td>\n",
       "      <td>C</td>\n",
       "    </tr>\n",
       "  </tbody>\n",
       "</table>\n",
       "</div>"
      ],
      "text/plain": [
       "         article_title article_quality\n",
       "0   Abbeville, Alabama               C\n",
       "1  Adamsville, Alabama               C\n",
       "2     Addison, Alabama               C\n",
       "3       Akron, Alabama              GA\n",
       "4   Alabaster, Alabama               C"
      ]
     },
     "execution_count": 97,
     "metadata": {},
     "output_type": "execute_result"
    }
   ],
   "source": [
    "#Loading rating per article as var\n",
    "ores_scores_file = open('../raw_data/final_ores_scores.json')\n",
    " \n",
    "#Makes ores_scores a dictionary\n",
    "ores_scores_dict = json.load(ores_scores_file)\n",
    "\n",
    "#Getting list of keys and values\n",
    "ores_keys = list(ores_scores_dict.keys())\n",
    "ores_values = list(ores_scores_dict.values())\n",
    "\n",
    "#Combining into a pandas df\n",
    "ores_scores_df = pd.DataFrame({'article_title':ores_keys,\n",
    "                               'article_quality':ores_values})\n",
    "ores_scores_df.head()"
   ]
  },
  {
   "cell_type": "markdown",
   "id": "01581e3f",
   "metadata": {},
   "source": [
    "Next we will read in the revision id per article and turn it into a dataframe. This dataframe will be merged using article title with the rating per article title dataframe made in the section of code above."
   ]
  },
  {
   "cell_type": "code",
   "execution_count": 98,
   "id": "0eb457e5",
   "metadata": {},
   "outputs": [
    {
     "data": {
      "text/html": [
       "<div>\n",
       "<style scoped>\n",
       "    .dataframe tbody tr th:only-of-type {\n",
       "        vertical-align: middle;\n",
       "    }\n",
       "\n",
       "    .dataframe tbody tr th {\n",
       "        vertical-align: top;\n",
       "    }\n",
       "\n",
       "    .dataframe thead th {\n",
       "        text-align: right;\n",
       "    }\n",
       "</style>\n",
       "<table border=\"1\" class=\"dataframe\">\n",
       "  <thead>\n",
       "    <tr style=\"text-align: right;\">\n",
       "      <th></th>\n",
       "      <th>article_title</th>\n",
       "      <th>revision_id</th>\n",
       "    </tr>\n",
       "  </thead>\n",
       "  <tbody>\n",
       "    <tr>\n",
       "      <th>0</th>\n",
       "      <td>Abbeville, Alabama</td>\n",
       "      <td>1171163550</td>\n",
       "    </tr>\n",
       "    <tr>\n",
       "      <th>1</th>\n",
       "      <td>Adamsville, Alabama</td>\n",
       "      <td>1177621427</td>\n",
       "    </tr>\n",
       "    <tr>\n",
       "      <th>2</th>\n",
       "      <td>Addison, Alabama</td>\n",
       "      <td>1168359898</td>\n",
       "    </tr>\n",
       "    <tr>\n",
       "      <th>3</th>\n",
       "      <td>Akron, Alabama</td>\n",
       "      <td>1165909508</td>\n",
       "    </tr>\n",
       "    <tr>\n",
       "      <th>4</th>\n",
       "      <td>Alabaster, Alabama</td>\n",
       "      <td>1179139816</td>\n",
       "    </tr>\n",
       "  </tbody>\n",
       "</table>\n",
       "</div>"
      ],
      "text/plain": [
       "         article_title  revision_id\n",
       "0   Abbeville, Alabama   1171163550\n",
       "1  Adamsville, Alabama   1177621427\n",
       "2     Addison, Alabama   1168359898\n",
       "3       Akron, Alabama   1165909508\n",
       "4   Alabaster, Alabama   1179139816"
      ]
     },
     "execution_count": 98,
     "metadata": {},
     "output_type": "execute_result"
    }
   ],
   "source": [
    "#Loading rating per article as var\n",
    "page_info_file = open('../raw_data/page_info.json')\n",
    " \n",
    "#Makes ores_scores a dictionary\n",
    "page_info_dict = json.load(page_info_file)\n",
    "\n",
    "#Getting list of keys and values\n",
    "page_info_keys = list(page_info_dict.keys())\n",
    "page_info_values = list(page_info_dict.values())\n",
    "\n",
    "#Combining into a pandas df\n",
    "page_info_df = pd.DataFrame({'article_title':page_info_keys,\n",
    "                             'revision_id':page_info_values})\n",
    "page_info_df.head()"
   ]
  },
  {
   "cell_type": "markdown",
   "id": "cf2b18a0",
   "metadata": {},
   "source": [
    "Next we will read in the list of article titles by states and turn it into a dataframe. Some states have non-standard names or formats (e.g., Georgia appears as 'Georgia (U.S. state)' and two-name states have \"_\") which we will update here for later joining."
   ]
  },
  {
   "cell_type": "code",
   "execution_count": 99,
   "id": "3a5948fb",
   "metadata": {},
   "outputs": [
    {
     "name": "stderr",
     "output_type": "stream",
     "text": [
      "C:\\Users\\ekrol\\AppData\\Local\\Temp\\ipykernel_18312\\2948642574.py:12: SettingWithCopyWarning: \n",
      "A value is trying to be set on a copy of a slice from a DataFrame.\n",
      "Try using .loc[row_indexer,col_indexer] = value instead\n",
      "\n",
      "See the caveats in the documentation: https://pandas.pydata.org/pandas-docs/stable/user_guide/indexing.html#returning-a-view-versus-a-copy\n",
      "  articles_by_st_df['state'] = articles_by_st_df['state'].str.replace('_', ' ')\n"
     ]
    },
    {
     "data": {
      "text/html": [
       "<div>\n",
       "<style scoped>\n",
       "    .dataframe tbody tr th:only-of-type {\n",
       "        vertical-align: middle;\n",
       "    }\n",
       "\n",
       "    .dataframe tbody tr th {\n",
       "        vertical-align: top;\n",
       "    }\n",
       "\n",
       "    .dataframe thead th {\n",
       "        text-align: right;\n",
       "    }\n",
       "</style>\n",
       "<table border=\"1\" class=\"dataframe\">\n",
       "  <thead>\n",
       "    <tr style=\"text-align: right;\">\n",
       "      <th></th>\n",
       "      <th>state</th>\n",
       "      <th>article_title</th>\n",
       "    </tr>\n",
       "  </thead>\n",
       "  <tbody>\n",
       "    <tr>\n",
       "      <th>0</th>\n",
       "      <td>Alabama</td>\n",
       "      <td>Abbeville, Alabama</td>\n",
       "    </tr>\n",
       "    <tr>\n",
       "      <th>1</th>\n",
       "      <td>Alabama</td>\n",
       "      <td>Adamsville, Alabama</td>\n",
       "    </tr>\n",
       "    <tr>\n",
       "      <th>2</th>\n",
       "      <td>Alabama</td>\n",
       "      <td>Addison, Alabama</td>\n",
       "    </tr>\n",
       "    <tr>\n",
       "      <th>3</th>\n",
       "      <td>Alabama</td>\n",
       "      <td>Akron, Alabama</td>\n",
       "    </tr>\n",
       "    <tr>\n",
       "      <th>4</th>\n",
       "      <td>Alabama</td>\n",
       "      <td>Alabaster, Alabama</td>\n",
       "    </tr>\n",
       "  </tbody>\n",
       "</table>\n",
       "</div>"
      ],
      "text/plain": [
       "     state        article_title\n",
       "0  Alabama   Abbeville, Alabama\n",
       "1  Alabama  Adamsville, Alabama\n",
       "2  Alabama     Addison, Alabama\n",
       "3  Alabama       Akron, Alabama\n",
       "4  Alabama   Alabaster, Alabama"
      ]
     },
     "execution_count": 99,
     "metadata": {},
     "output_type": "execute_result"
    }
   ],
   "source": [
    "#Read in articles per state using pandas\n",
    "articles_by_st = pd.read_csv('../raw_data/clean_us_cities_by_state.csv')\n",
    "articles_by_st.head()\n",
    "\n",
    "#Keep only the first 2 columns which are relevant for later analysis\n",
    "articles_by_st_df = articles_by_st[['state','page_title']]\n",
    "\n",
    "#Renaming the columns to get the final names\n",
    "articles_by_st_df.columns = ['state','article_title']\n",
    "\n",
    "#Fixing state names to align with government state names\n",
    "articles_by_st_df['state'] = articles_by_st_df['state'].str.replace('_', ' ')\n",
    "articles_by_st_df = articles_by_st_df.replace('Georgia (U.S. state)', \n",
    "                                              'Georgia')\n",
    "articles_by_st_df.head()"
   ]
  },
  {
   "cell_type": "markdown",
   "id": "cd72d6c3",
   "metadata": {},
   "source": [
    "Now, we will read in the population per state. We will remove rows which are not in the 50 states and columns which do not relate to states and their 2022 population estimates."
   ]
  },
  {
   "cell_type": "code",
   "execution_count": 100,
   "id": "ded7eb77",
   "metadata": {},
   "outputs": [
    {
     "name": "stdout",
     "output_type": "stream",
     "text": [
      "Correct number of states remain (50).\n"
     ]
    },
    {
     "name": "stderr",
     "output_type": "stream",
     "text": [
      "C:\\Users\\ekrol\\AppData\\Local\\Temp\\ipykernel_18312\\3432604317.py:35: FutureWarning: The default value of regex will change from True to False in a future version. In addition, single character regular expressions will *not* be treated as literal strings when regex=True.\n",
      "  pop_by_st_df['state'] = pop_by_st_df['state'].str.replace('.', '')\n"
     ]
    },
    {
     "data": {
      "text/html": [
       "<div>\n",
       "<style scoped>\n",
       "    .dataframe tbody tr th:only-of-type {\n",
       "        vertical-align: middle;\n",
       "    }\n",
       "\n",
       "    .dataframe tbody tr th {\n",
       "        vertical-align: top;\n",
       "    }\n",
       "\n",
       "    .dataframe thead th {\n",
       "        text-align: right;\n",
       "    }\n",
       "</style>\n",
       "<table border=\"1\" class=\"dataframe\">\n",
       "  <thead>\n",
       "    <tr style=\"text-align: right;\">\n",
       "      <th></th>\n",
       "      <th>state</th>\n",
       "      <th>population</th>\n",
       "    </tr>\n",
       "  </thead>\n",
       "  <tbody>\n",
       "    <tr>\n",
       "      <th>8</th>\n",
       "      <td>Alabama</td>\n",
       "      <td>5,074,296</td>\n",
       "    </tr>\n",
       "    <tr>\n",
       "      <th>9</th>\n",
       "      <td>Alaska</td>\n",
       "      <td>733,583</td>\n",
       "    </tr>\n",
       "    <tr>\n",
       "      <th>10</th>\n",
       "      <td>Arizona</td>\n",
       "      <td>7,359,197</td>\n",
       "    </tr>\n",
       "    <tr>\n",
       "      <th>11</th>\n",
       "      <td>Arkansas</td>\n",
       "      <td>3,045,637</td>\n",
       "    </tr>\n",
       "    <tr>\n",
       "      <th>12</th>\n",
       "      <td>California</td>\n",
       "      <td>39,029,342</td>\n",
       "    </tr>\n",
       "  </tbody>\n",
       "</table>\n",
       "</div>"
      ],
      "text/plain": [
       "         state  population\n",
       "8      Alabama   5,074,296\n",
       "9       Alaska     733,583\n",
       "10     Arizona   7,359,197\n",
       "11    Arkansas   3,045,637\n",
       "12  California  39,029,342"
      ]
     },
     "execution_count": 100,
     "metadata": {},
     "output_type": "execute_result"
    }
   ],
   "source": [
    "#Read in info using pandas\n",
    "pop_by_st = pd.read_csv('../raw_data/NST-EST2022-POP.csv')\n",
    "pop_by_st.head()\n",
    "\n",
    "#Update the col names\n",
    "pop_by_st.columns = ['geographic_area','April 1, 2020 Estimates Base',\n",
    "                        '2020_pop_est','2021_pop_est','2022_pop_est']\n",
    "\n",
    "#Remove unused columns & renaming remaining\n",
    "pop_by_st_df = pop_by_st[['geographic_area','2022_pop_est']]\n",
    "pop_by_st_df.columns = ['state','population']\n",
    "\n",
    "#Removing rows which aren't states\n",
    "not_states = ['Annual Estimates of the Resident Population for the United States, Regions, States, District of Columbia, and Puerto Rico: April 1, 2020 to July 1, 2022',\n",
    "       'Geographic Area', 'United States', 'Northeast', 'Midwest',\n",
    "       'South', 'West', '.Puerto Rico','.District of Columbia',\n",
    "       'Note: The estimates are developed from a base that incorporates the 2020 Census, Vintage 2020 estimates, and (for the U.S. only) 2020 Demographic Analysis estimates.  For population estimates methodology statements, see https://www.census.gov/programs-surveys/popest/technical-documentation/methodology.html. See Geographic Terms and Definitions at https://www.census.gov/programs-surveys/popest/guidance-geographies/terms-and-definitions.html for a list of the states that are included in each region. All geographic boundaries for the 2022 population estimates series are as of January 1, 2022. ',\n",
    "       'Suggested Citation:',\n",
    "       'Annual Estimates of the Resident Population for the United States, Regions, States, District of Columbia, and Puerto Rico: April 1, 2020 to July 1, 2022 (NST-EST2022-POP)',\n",
    "       'Source: U.S. Census Bureau, Population Division',\n",
    "       'Release Date: December 2022']\n",
    "pop_by_st_df = pop_by_st_df.loc[\n",
    "                ~pop_by_st_df['state'].isin(not_states)]\n",
    "pop_by_st_df = pop_by_st_df.loc[\n",
    "                ~pop_by_st_df['state'].isnull()]\n",
    "\n",
    "#Verifying only 50 states in final result\n",
    "if len(pop_by_st_df['state'].unique()) == 50:\n",
    "    print(\"Correct number of states remain (50).\")\n",
    "else:\n",
    "    print(\"ERROR - {0} states, expecting 50.\".format(\n",
    "        len(pop_by_st_df['state'].unique())))\n",
    "    \n",
    "#Removing leading \".\" in state names which came in from the file\n",
    "pop_by_st_df['state'] = pop_by_st_df['state'].str.replace('.', '')\n",
    "\n",
    "#Viewing head of file\n",
    "pop_by_st_df.head()"
   ]
  },
  {
   "cell_type": "markdown",
   "id": "96ee1703",
   "metadata": {},
   "source": [
    "Finally, we will read in the US states and their regional divisions. We will remove columns containing Census Divisions as these will not be inclued in our final analysis."
   ]
  },
  {
   "cell_type": "code",
   "execution_count": 101,
   "id": "d14a4936",
   "metadata": {},
   "outputs": [
    {
     "data": {
      "text/html": [
       "<div>\n",
       "<style scoped>\n",
       "    .dataframe tbody tr th:only-of-type {\n",
       "        vertical-align: middle;\n",
       "    }\n",
       "\n",
       "    .dataframe tbody tr th {\n",
       "        vertical-align: top;\n",
       "    }\n",
       "\n",
       "    .dataframe thead th {\n",
       "        text-align: right;\n",
       "    }\n",
       "</style>\n",
       "<table border=\"1\" class=\"dataframe\">\n",
       "  <thead>\n",
       "    <tr style=\"text-align: right;\">\n",
       "      <th></th>\n",
       "      <th>regional_division</th>\n",
       "      <th>state</th>\n",
       "    </tr>\n",
       "  </thead>\n",
       "  <tbody>\n",
       "    <tr>\n",
       "      <th>0</th>\n",
       "      <td>Northeast</td>\n",
       "      <td>Connecticut</td>\n",
       "    </tr>\n",
       "    <tr>\n",
       "      <th>1</th>\n",
       "      <td>Northeast</td>\n",
       "      <td>Maine</td>\n",
       "    </tr>\n",
       "    <tr>\n",
       "      <th>2</th>\n",
       "      <td>Northeast</td>\n",
       "      <td>Massachusetts</td>\n",
       "    </tr>\n",
       "    <tr>\n",
       "      <th>3</th>\n",
       "      <td>Northeast</td>\n",
       "      <td>New Hampshire</td>\n",
       "    </tr>\n",
       "    <tr>\n",
       "      <th>4</th>\n",
       "      <td>Northeast</td>\n",
       "      <td>Rhode Island</td>\n",
       "    </tr>\n",
       "  </tbody>\n",
       "</table>\n",
       "</div>"
      ],
      "text/plain": [
       "  regional_division          state\n",
       "0         Northeast    Connecticut\n",
       "1         Northeast          Maine\n",
       "2         Northeast  Massachusetts\n",
       "3         Northeast  New Hampshire\n",
       "4         Northeast   Rhode Island"
      ]
     },
     "execution_count": 101,
     "metadata": {},
     "output_type": "execute_result"
    }
   ],
   "source": [
    "#Read in info using pandas\n",
    "st_by_region = pd.read_csv('../raw_data/states_by_region.csv')\n",
    "st_by_region.head()\n",
    "\n",
    "#Remove non-necessary columns & change names\n",
    "st_by_region_df = st_by_region[['REGION','STATE']]\n",
    "st_by_region_df.columns = ['regional_division','state']\n",
    "st_by_region_df.head()"
   ]
  },
  {
   "cell_type": "markdown",
   "id": "4e9f90b7",
   "metadata": {},
   "source": [
    "Now we will begin to merge our dataframes together. We will use the st_by_region as our \"left\" dataframe and add the population information as the \"right\" dataframe."
   ]
  },
  {
   "cell_type": "code",
   "execution_count": 102,
   "id": "3d441a77",
   "metadata": {},
   "outputs": [
    {
     "name": "stdout",
     "output_type": "stream",
     "text": [
      "Merge went correctly, 50 rows\n"
     ]
    },
    {
     "data": {
      "text/html": [
       "<div>\n",
       "<style scoped>\n",
       "    .dataframe tbody tr th:only-of-type {\n",
       "        vertical-align: middle;\n",
       "    }\n",
       "\n",
       "    .dataframe tbody tr th {\n",
       "        vertical-align: top;\n",
       "    }\n",
       "\n",
       "    .dataframe thead th {\n",
       "        text-align: right;\n",
       "    }\n",
       "</style>\n",
       "<table border=\"1\" class=\"dataframe\">\n",
       "  <thead>\n",
       "    <tr style=\"text-align: right;\">\n",
       "      <th></th>\n",
       "      <th>regional_division</th>\n",
       "      <th>state</th>\n",
       "      <th>population</th>\n",
       "    </tr>\n",
       "  </thead>\n",
       "  <tbody>\n",
       "    <tr>\n",
       "      <th>0</th>\n",
       "      <td>Northeast</td>\n",
       "      <td>Connecticut</td>\n",
       "      <td>3,626,205</td>\n",
       "    </tr>\n",
       "    <tr>\n",
       "      <th>1</th>\n",
       "      <td>Northeast</td>\n",
       "      <td>Maine</td>\n",
       "      <td>1,385,340</td>\n",
       "    </tr>\n",
       "    <tr>\n",
       "      <th>2</th>\n",
       "      <td>Northeast</td>\n",
       "      <td>Massachusetts</td>\n",
       "      <td>6,981,974</td>\n",
       "    </tr>\n",
       "    <tr>\n",
       "      <th>3</th>\n",
       "      <td>Northeast</td>\n",
       "      <td>New Hampshire</td>\n",
       "      <td>1,395,231</td>\n",
       "    </tr>\n",
       "    <tr>\n",
       "      <th>4</th>\n",
       "      <td>Northeast</td>\n",
       "      <td>Rhode Island</td>\n",
       "      <td>1,093,734</td>\n",
       "    </tr>\n",
       "  </tbody>\n",
       "</table>\n",
       "</div>"
      ],
      "text/plain": [
       "  regional_division          state population\n",
       "0         Northeast    Connecticut  3,626,205\n",
       "1         Northeast          Maine  1,385,340\n",
       "2         Northeast  Massachusetts  6,981,974\n",
       "3         Northeast  New Hampshire  1,395,231\n",
       "4         Northeast   Rhode Island  1,093,734"
      ]
     },
     "execution_count": 102,
     "metadata": {},
     "output_type": "execute_result"
    }
   ],
   "source": [
    "#Merging dataframes\n",
    "st_reg_pop_df = pd.merge(st_by_region_df, pop_by_st_df,\n",
    "                         how = 'left', on = 'state')\n",
    "\n",
    "#Validating that we still have 50 states\n",
    "if len(st_reg_pop_df) == 50:\n",
    "    print(\"Merge went correctly, 50 rows\")\n",
    "else:\n",
    "    print(\"ERROR - merge did not work {0} rows\".format(\n",
    "    len(st_reg_pop_df)))\n",
    "    \n",
    "#Looking at df\n",
    "st_reg_pop_df.head()"
   ]
  },
  {
   "cell_type": "markdown",
   "id": "1da9bda7",
   "metadata": {},
   "source": [
    "Next we will merge in the article title information from articles_by_st_df using \"state\" as the matching key."
   ]
  },
  {
   "cell_type": "code",
   "execution_count": 103,
   "id": "980c3663",
   "metadata": {},
   "outputs": [
    {
     "name": "stdout",
     "output_type": "stream",
     "text": [
      "WARNING - Some states are missing article title information:\n",
      "      regional_division        state population article_title\n",
      "0             Northeast  Connecticut  3,626,205           NaN\n",
      "12881           Midwest     Nebraska  1,967,923           NaN\n"
     ]
    }
   ],
   "source": [
    "#Merging dataframes\n",
    "st_reg_pop_title_df = pd.merge(st_reg_pop_df, articles_by_st_df,\n",
    "                               how = 'left', on = 'state')\n",
    "\n",
    "#Checking right # of rows\n",
    "if len(st_reg_pop_title_df) > len(articles_by_st_df):\n",
    "    print(\"WARNING - Some states are missing article title information:\")\n",
    "    print(st_reg_pop_title_df[st_reg_pop_title_df.isnull().any(axis = 1)])\n",
    "if len(st_reg_pop_title_df) < len(articles_by_st_df):\n",
    "    print(\"WARNING - there are more states with articles than there are\")\n",
    "    print(\"states with population in your df\")\n",
    "    print(st_reg_pop_title_df[st_reg_pop_title_df.isnull().any(axis = 1)])\n",
    "elif len(st_reg_pop_title_df) == len(articles_by_st_df):\n",
    "    print(\"Successful merge, expected {0} rows and got {1}\".format(\n",
    "    len(articles_by_st_df), len(st_reg_pop_title_df)))"
   ]
  },
  {
   "cell_type": "markdown",
   "id": "50261daf",
   "metadata": {},
   "source": [
    "From the above printout we see that there are states which do not have any articles written about their cities, per our data. Given we can look up city information from Connecticut and Nebraska on Wikipedia, we believe this is an issue with our scraping, rather than a lack of articles. We will proceed without the CT and NE data, though it will be noted in our analysis."
   ]
  },
  {
   "cell_type": "code",
   "execution_count": 104,
   "id": "21a6c5b3",
   "metadata": {},
   "outputs": [],
   "source": [
    "#Removing the Connecticut and Nebraska blank rows from our df\n",
    "st_reg_pop_title_48_df = st_reg_pop_title_df[~st_reg_pop_title_df.isnull().any(axis = 1)]"
   ]
  },
  {
   "cell_type": "markdown",
   "id": "2bf7e8a7",
   "metadata": {},
   "source": [
    "Now we will merge the revision ids and article quality measuements with our state, region, population, title df. We switch from a left merge to a right merge for our quality rankings, this is because there are likely fewer quality rankings than there are article titles due to ORES being unable to pull rankings for all articles."
   ]
  },
  {
   "cell_type": "code",
   "execution_count": 105,
   "id": "e44f9599",
   "metadata": {},
   "outputs": [
    {
     "name": "stdout",
     "output_type": "stream",
     "text": [
      "Successful merge, expected 21515 rows and got 21515\n",
      "Successful merge, expected 21514 rows and got 21514\n"
     ]
    }
   ],
   "source": [
    "#Merge in the revision ids\n",
    "rev_df = pd.merge(st_reg_pop_title_48_df, page_info_df, how = \"left\",\n",
    "                 left_on = \"article_title\", right_on='article_title')\n",
    "\n",
    "#Checking right # of rows\n",
    "if len(rev_df) > len(page_info_df):\n",
    "    print(\"WARNING - Some states are missing article title information:\")\n",
    "    print(rev_df[rev_df.isnull().any(axis = 1)])\n",
    "if len(rev_df) < len(page_info_df):\n",
    "    print(\"WARNING - there are more states with articles than there are\")\n",
    "    print(\"states with population in your df\")\n",
    "    print(rev_df[rev_df.isnull().any(axis = 1)])\n",
    "elif len(rev_df) == len(page_info_df):\n",
    "    print(\"Successful merge, expected {0} rows and got {1}\".format(\n",
    "    len(page_info_df), len(rev_df)))\n",
    "\n",
    "#Merge in the article quality measures\n",
    "final_merge_df = pd.merge(rev_df, ores_scores_df, how = \"right\",\n",
    "                 left_on = \"article_title\", right_on='article_title')\n",
    "\n",
    "#Checking right # of rows\n",
    "if len(final_merge_df) > len(ores_scores_df):\n",
    "    print(\"WARNING - Some articles are missing quality information:\")\n",
    "    print(final_merge_df[final_merge_df.isnull().any(axis = 1)])\n",
    "if len(final_merge_df) < len(ores_scores_df):\n",
    "    print(\"WARNING - there are more quality ratings than article titles\")\n",
    "    print(final_merge_df[final_merge_df.isnull().any(axis = 1)])\n",
    "elif len(final_merge_df) == len(ores_scores_df):\n",
    "    print(\"Successful merge, expected {0} rows and got {1}\".format(\n",
    "    len(ores_scores_df), len(final_merge_df)))"
   ]
  },
  {
   "cell_type": "markdown",
   "id": "6d53238e",
   "metadata": {},
   "source": [
    "Ordering and saving the final output to a csv in clean_data."
   ]
  },
  {
   "cell_type": "code",
   "execution_count": 106,
   "id": "0ff22480",
   "metadata": {},
   "outputs": [],
   "source": [
    "#Reordering columns\n",
    "wp_scored_city_articles_by_state = final_merge_df[['state',\n",
    "       'regional_division', 'population', 'article_title',\n",
    "       'revision_id', 'article_quality']]\n",
    "\n",
    "#Saving to CSV\n",
    "wp_scored_city_articles_by_state.to_csv(\"../clean_data/wp_scored_city_articles_by_state.csv\")"
   ]
  }
 ],
 "metadata": {
  "kernelspec": {
   "display_name": "Python 3 (ipykernel)",
   "language": "python",
   "name": "python3"
  },
  "language_info": {
   "codemirror_mode": {
    "name": "ipython",
    "version": 3
   },
   "file_extension": ".py",
   "mimetype": "text/x-python",
   "name": "python",
   "nbconvert_exporter": "python",
   "pygments_lexer": "ipython3",
   "version": "3.9.12"
  }
 },
 "nbformat": 4,
 "nbformat_minor": 5
}
